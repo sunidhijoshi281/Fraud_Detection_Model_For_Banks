{
  "nbformat": 4,
  "nbformat_minor": 0,
  "metadata": {
    "colab": {
      "name": "Copy of Copy of Cass_file.ipynb",
      "provenance": [],
      "collapsed_sections": [],
      "include_colab_link": true
    },
    "kernelspec": {
      "name": "python3",
      "display_name": "Python 3"
    },
    "language_info": {
      "name": "python"
    }
  },
  "cells": [
    {
      "cell_type": "markdown",
      "metadata": {
        "id": "view-in-github",
        "colab_type": "text"
      },
      "source": [
        "<a href=\"https://colab.research.google.com/github/sunidhijoshi281/Fraud_Detection_Model_For_Banks/blob/main/Copy_of_Copy_of_Cass_file.ipynb\" target=\"_parent\"><img src=\"https://colab.research.google.com/assets/colab-badge.svg\" alt=\"Open In Colab\"/></a>"
      ]
    },
    {
      "cell_type": "code",
      "metadata": {
        "id": "j6yrR5xQ8_So"
      },
      "source": [
        "import numpy as np\n",
        "import pandas as pd\n",
        "import xgboost as xgb\n",
        "from sklearn.model_selection import train_test_split"
      ],
      "execution_count": null,
      "outputs": []
    },
    {
      "cell_type": "markdown",
      "metadata": {
        "id": "wEW-uTsLJX3G"
      },
      "source": [
        "**Loading** **Data**\n"
      ]
    },
    {
      "cell_type": "code",
      "metadata": {
        "id": "c-9Mry3qANk4"
      },
      "source": [
        "train_data= pd.read_csv('/content/user_data_training.csv')\n",
        "ph= pd.read_csv('/content/payment_history_data.csv')\n",
        "\n",
        "ph.max_bal = np.where(ph.max_bal.isnull(), ph.curr_remaining, ph.max_bal)\n"
      ],
      "execution_count": null,
      "outputs": []
    },
    {
      "cell_type": "code",
      "metadata": {
        "id": "wHYODaaxOjX0"
      },
      "source": [
        "sort_ph = ph.sort_values(by = [\"id\"])\n",
        "sort_ph.drop('last_update',axis = 'columns',inplace = True)\n",
        "sort_ph.drop('p_code',axis = 'columns',inplace = True)\n",
        "sort_ph.drop('recent_payment_activity',axis = 'columns',inplace = True)\n",
        "\n",
        "phf = sort_ph.groupby(sort_ph['id']).mean()\n"
      ],
      "execution_count": null,
      "outputs": []
    },
    {
      "cell_type": "code",
      "metadata": {
        "id": "FQvKyflJAFz7"
      },
      "source": [
        "df = pd.merge(phf,train_data,on = 'id')"
      ],
      "execution_count": null,
      "outputs": []
    },
    {
      "cell_type": "markdown",
      "metadata": {
        "id": "EdqZZR-DL5iO"
      },
      "source": [
        "**Modifying original demographics data and fill nans**"
      ]
    },
    {
      "cell_type": "code",
      "metadata": {
        "id": "V8iTGV7bAtxd"
      },
      "source": [
        "df.p_limit.fillna(value = df.p_limit.mean(),inplace = True)\n",
        "df.Beta.fillna(value = df.Beta.mean(),inplace = True)"
      ],
      "execution_count": null,
      "outputs": []
    },
    {
      "cell_type": "code",
      "metadata": {
        "id": "kCsd5s3RBIvy",
        "colab": {
          "base_uri": "https://localhost:8080/",
          "height": 320
        },
        "outputId": "73549acc-700f-49af-89c9-f54cad235077"
      },
      "source": [
        "df2= df.drop(['id'],axis='columns')\n",
        "df2.describe()"
      ],
      "execution_count": null,
      "outputs": [
        {
          "output_type": "execute_result",
          "data": {
            "text/html": [
              "<div>\n",
              "<style scoped>\n",
              "    .dataframe tbody tr th:only-of-type {\n",
              "        vertical-align: middle;\n",
              "    }\n",
              "\n",
              "    .dataframe tbody tr th {\n",
              "        vertical-align: top;\n",
              "    }\n",
              "\n",
              "    .dataframe thead th {\n",
              "        text-align: right;\n",
              "    }\n",
              "</style>\n",
              "<table border=\"1\" class=\"dataframe\">\n",
              "  <thead>\n",
              "    <tr style=\"text-align: right;\">\n",
              "      <th></th>\n",
              "      <th>Late_2</th>\n",
              "      <th>Late_1</th>\n",
              "      <th>Late_3</th>\n",
              "      <th>days_late_Sum</th>\n",
              "      <th>normal_payment</th>\n",
              "      <th>p_limit</th>\n",
              "      <th>curr_remaining</th>\n",
              "      <th>max_bal</th>\n",
              "      <th>label</th>\n",
              "      <th>Alpha</th>\n",
              "      <th>Beta</th>\n",
              "      <th>Gamma</th>\n",
              "      <th>Delta</th>\n",
              "      <th>Epsilon</th>\n",
              "      <th>Zeta</th>\n",
              "      <th>Eta</th>\n",
              "      <th>Theta</th>\n",
              "      <th>Iota</th>\n",
              "      <th>Kappa</th>\n",
              "      <th>Lambda</th>\n",
              "      <th>omikron</th>\n",
              "    </tr>\n",
              "  </thead>\n",
              "  <tbody>\n",
              "    <tr>\n",
              "      <th>count</th>\n",
              "      <td>715.000000</td>\n",
              "      <td>715.000000</td>\n",
              "      <td>715.000000</td>\n",
              "      <td>715.000000</td>\n",
              "      <td>715.000000</td>\n",
              "      <td>715.000000</td>\n",
              "      <td>7.150000e+02</td>\n",
              "      <td>7.150000e+02</td>\n",
              "      <td>715.000000</td>\n",
              "      <td>715.000000</td>\n",
              "      <td>715.000000</td>\n",
              "      <td>715.000000</td>\n",
              "      <td>7.150000e+02</td>\n",
              "      <td>715.000000</td>\n",
              "      <td>715.000000</td>\n",
              "      <td>715.000000</td>\n",
              "      <td>715.000000</td>\n",
              "      <td>715.000000</td>\n",
              "      <td>715.000000</td>\n",
              "      <td>715.000000</td>\n",
              "      <td>715.000000</td>\n",
              "    </tr>\n",
              "    <tr>\n",
              "      <th>mean</th>\n",
              "      <td>0.210737</td>\n",
              "      <td>0.105145</td>\n",
              "      <td>0.304159</td>\n",
              "      <td>154.330018</td>\n",
              "      <td>14.388732</td>\n",
              "      <td>83344.204621</td>\n",
              "      <td>8.276478e+04</td>\n",
              "      <td>1.310184e+05</td>\n",
              "      <td>0.160839</td>\n",
              "      <td>2839.560839</td>\n",
              "      <td>1284.454106</td>\n",
              "      <td>2.341259</td>\n",
              "      <td>1.240070e+05</td>\n",
              "      <td>1.930070</td>\n",
              "      <td>10.758042</td>\n",
              "      <td>4.911888</td>\n",
              "      <td>100.960839</td>\n",
              "      <td>4.226573</td>\n",
              "      <td>159268.723077</td>\n",
              "      <td>133.534372</td>\n",
              "      <td>0.023503</td>\n",
              "    </tr>\n",
              "    <tr>\n",
              "      <th>std</th>\n",
              "      <td>0.564505</td>\n",
              "      <td>0.337891</td>\n",
              "      <td>1.279330</td>\n",
              "      <td>747.489297</td>\n",
              "      <td>6.231508</td>\n",
              "      <td>44743.477590</td>\n",
              "      <td>2.561379e+05</td>\n",
              "      <td>2.897293e+05</td>\n",
              "      <td>0.367640</td>\n",
              "      <td>724.241433</td>\n",
              "      <td>47.561959</td>\n",
              "      <td>0.875061</td>\n",
              "      <td>9.162208e+04</td>\n",
              "      <td>0.255208</td>\n",
              "      <td>2.670290</td>\n",
              "      <td>2.964649</td>\n",
              "      <td>11.801041</td>\n",
              "      <td>0.849530</td>\n",
              "      <td>147057.516419</td>\n",
              "      <td>113.553512</td>\n",
              "      <td>0.009307</td>\n",
              "    </tr>\n",
              "    <tr>\n",
              "      <th>min</th>\n",
              "      <td>0.000000</td>\n",
              "      <td>0.000000</td>\n",
              "      <td>0.000000</td>\n",
              "      <td>0.000000</td>\n",
              "      <td>1.000000</td>\n",
              "      <td>4913.333333</td>\n",
              "      <td>-1.355400e+03</td>\n",
              "      <td>2.424000e+03</td>\n",
              "      <td>0.000000</td>\n",
              "      <td>523.000000</td>\n",
              "      <td>1116.500000</td>\n",
              "      <td>1.000000</td>\n",
              "      <td>1.500000e+04</td>\n",
              "      <td>1.000000</td>\n",
              "      <td>3.000000</td>\n",
              "      <td>-1.000000</td>\n",
              "      <td>64.000000</td>\n",
              "      <td>1.000000</td>\n",
              "      <td>60000.000000</td>\n",
              "      <td>1.000000</td>\n",
              "      <td>0.008696</td>\n",
              "    </tr>\n",
              "    <tr>\n",
              "      <th>25%</th>\n",
              "      <td>0.000000</td>\n",
              "      <td>0.000000</td>\n",
              "      <td>0.000000</td>\n",
              "      <td>0.000000</td>\n",
              "      <td>9.916667</td>\n",
              "      <td>55641.666667</td>\n",
              "      <td>9.107543e+03</td>\n",
              "      <td>3.489214e+04</td>\n",
              "      <td>0.000000</td>\n",
              "      <td>2092.000000</td>\n",
              "      <td>1251.500000</td>\n",
              "      <td>1.000000</td>\n",
              "      <td>7.400000e+04</td>\n",
              "      <td>2.000000</td>\n",
              "      <td>8.000000</td>\n",
              "      <td>5.000000</td>\n",
              "      <td>90.000000</td>\n",
              "      <td>4.000000</td>\n",
              "      <td>60043.000000</td>\n",
              "      <td>1.000000</td>\n",
              "      <td>0.012270</td>\n",
              "    </tr>\n",
              "    <tr>\n",
              "      <th>50%</th>\n",
              "      <td>0.000000</td>\n",
              "      <td>0.000000</td>\n",
              "      <td>0.000000</td>\n",
              "      <td>0.000000</td>\n",
              "      <td>14.000000</td>\n",
              "      <td>83344.204621</td>\n",
              "      <td>2.706720e+04</td>\n",
              "      <td>6.523567e+04</td>\n",
              "      <td>0.000000</td>\n",
              "      <td>2615.000000</td>\n",
              "      <td>1284.454106</td>\n",
              "      <td>3.000000</td>\n",
              "      <td>1.020000e+05</td>\n",
              "      <td>2.000000</td>\n",
              "      <td>11.000000</td>\n",
              "      <td>5.000000</td>\n",
              "      <td>105.000000</td>\n",
              "      <td>4.000000</td>\n",
              "      <td>72000.000000</td>\n",
              "      <td>173.205081</td>\n",
              "      <td>0.026786</td>\n",
              "    </tr>\n",
              "    <tr>\n",
              "      <th>75%</th>\n",
              "      <td>0.200000</td>\n",
              "      <td>0.000000</td>\n",
              "      <td>0.000000</td>\n",
              "      <td>4.345395</td>\n",
              "      <td>18.623529</td>\n",
              "      <td>102300.000000</td>\n",
              "      <td>7.241077e+04</td>\n",
              "      <td>1.300827e+05</td>\n",
              "      <td>0.000000</td>\n",
              "      <td>3661.000000</td>\n",
              "      <td>1310.000000</td>\n",
              "      <td>3.000000</td>\n",
              "      <td>1.410000e+05</td>\n",
              "      <td>2.000000</td>\n",
              "      <td>11.000000</td>\n",
              "      <td>5.000000</td>\n",
              "      <td>111.000000</td>\n",
              "      <td>5.000000</td>\n",
              "      <td>151300.500000</td>\n",
              "      <td>200.000000</td>\n",
              "      <td>0.030000</td>\n",
              "    </tr>\n",
              "    <tr>\n",
              "      <th>max</th>\n",
              "      <td>9.428571</td>\n",
              "      <td>3.400000</td>\n",
              "      <td>14.714286</td>\n",
              "      <td>9919.285714</td>\n",
              "      <td>36.000000</td>\n",
              "      <td>526900.000000</td>\n",
              "      <td>5.598080e+06</td>\n",
              "      <td>6.105454e+06</td>\n",
              "      <td>1.000000</td>\n",
              "      <td>3661.000000</td>\n",
              "      <td>1469.000000</td>\n",
              "      <td>3.000000</td>\n",
              "      <td>1.200000e+06</td>\n",
              "      <td>2.000000</td>\n",
              "      <td>16.000000</td>\n",
              "      <td>10.000000</td>\n",
              "      <td>115.000000</td>\n",
              "      <td>5.000000</td>\n",
              "      <td>650070.000000</td>\n",
              "      <td>707.106781</td>\n",
              "      <td>0.046875</td>\n",
              "    </tr>\n",
              "  </tbody>\n",
              "</table>\n",
              "</div>"
            ],
            "text/plain": [
              "           Late_2      Late_1  ...      Lambda     omikron\n",
              "count  715.000000  715.000000  ...  715.000000  715.000000\n",
              "mean     0.210737    0.105145  ...  133.534372    0.023503\n",
              "std      0.564505    0.337891  ...  113.553512    0.009307\n",
              "min      0.000000    0.000000  ...    1.000000    0.008696\n",
              "25%      0.000000    0.000000  ...    1.000000    0.012270\n",
              "50%      0.000000    0.000000  ...  173.205081    0.026786\n",
              "75%      0.200000    0.000000  ...  200.000000    0.030000\n",
              "max      9.428571    3.400000  ...  707.106781    0.046875\n",
              "\n",
              "[8 rows x 21 columns]"
            ]
          },
          "metadata": {
            "tags": []
          },
          "execution_count": 85
        }
      ]
    },
    {
      "cell_type": "code",
      "metadata": {
        "id": "_vHngUdAFQu3",
        "colab": {
          "base_uri": "https://localhost:8080/",
          "height": 417
        },
        "outputId": "0cca7fff-af10-48cc-f4d7-92edbfbd5a9b"
      },
      "source": [
        "\n",
        "count_class_0, count_class_1 = df2.label.value_counts()\n",
        "\n",
        "# Divide by class\n",
        "print('Initially:')\n",
        "print(df2.label.value_counts())\n",
        "df2_class_0 = df2[df2['label'] == 0]\n",
        "df2_class_1 = df2[df2['label'] == 1]\n",
        "df2_class_1_over = df2_class_1.sample(count_class_0, replace=True)\n",
        "df2 = pd.concat([df2_class_0, df2_class_1_over], axis=0)\n",
        "\n",
        "print('Random over-sampling:')\n",
        "print(df2.label.value_counts())\n",
        "\n",
        "df2.label.value_counts().plot(kind='bar', title='Count (label)');\n"
      ],
      "execution_count": null,
      "outputs": [
        {
          "output_type": "stream",
          "text": [
            "Initially:\n",
            "0    600\n",
            "1    115\n",
            "Name: label, dtype: int64\n",
            "Random over-sampling:\n",
            "1    600\n",
            "0    600\n",
            "Name: label, dtype: int64\n"
          ],
          "name": "stdout"
        },
        {
          "output_type": "display_data",
          "data": {
            "image/png": "[encoded data removed]",
            "text/plain": [
              "<Figure size 432x288 with 1 Axes>"
            ]
          },
          "metadata": {
            "tags": [],
            "needs_background": "light"
          }
        }
      ]
    },
    {
      "cell_type": "markdown",
      "metadata": {
        "id": "qjT-hAckYzHE"
      },
      "source": [
        "**Detect** **and** **drop** **outliers**"
      ]
    },
    {
      "cell_type": "code",
      "metadata": {
        "id": "k1BasuTqEtF1"
      },
      "source": [
        "def detect_outliers(df2,n,features):\n",
        "    \"\"\"\n",
        "    Takes a dataframe df of features and returns a list of the indices\n",
        "    corresponding to the observations containing more than n outliers according\n",
        "    to the Tukey method.\n",
        "    \"\"\"\n",
        "    outlier_indices = []\n",
        "    \n",
        "    # iterate over features(columns)\n",
        "    for col in features:\n",
        "        # 1st quartile (25%)\n",
        "        Q1 = np.percentile(f2[col], 25)\n",
        "        # 3rd quartile (75%)\n",
        "        Q3 = np.percentile(df2[col],75)\n",
        "        # Interquartile range (IQR)\n",
        "        IQR = Q3 - Q1\n",
        "        outlier_step = 1.5 * IQR\n",
        "        \n",
        "        # Determine a list of indices of outliers for feature col\n",
        "        outlier_list_col = df2[(df2[col] < Q1 - outlier_step) | (df2[col] > Q3 + outlier_step )].index\n",
        "        \n",
        "        # append the found outlier indices for col to the list of outlier indices \n",
        "        outlier_indices.extend(outlier_list_col)\n",
        "        \n",
        "    # select observations containing more than 2 outliers\n",
        "    outlier_indices = Counter(outlier_indices)        \n",
        "    multiple_outliers = list( k for k, v in outlier_indices.items() if v > n )\n",
        "    \n",
        "    return multiple_outliers   \n",
        "\n",
        "    # detect outliers from Features\n",
        "    Outliers_to_drop = detect_outliers(train,2,Features)\n",
        "    # Drop outliers\n",
        "    train = train.drop(Outliers_to_drop, axis = 0).reset_index(drop=True)"
      ],
      "execution_count": null,
      "outputs": []
    },
    {
      "cell_type": "code",
      "metadata": {
        "id": "sJRRNebgI-Nm"
      },
      "source": [
        "Features= (['Late_2', 'Late_1', 'days_late_Sum', 'Eta',\n",
        "       'p_limit', 'curr_remaining', 'max_bal', 'Alpha', 'Beta','normal_payment',\n",
        "        'Delta', 'Zeta', 'Theta', 'Iota', 'Kappa','Late_3','Epsilon','Gamma',\n",
        "       'Lambda', 'omikron'])\n",
        "y_train=df2.label\n",
        "x_train= df2[Features]\n"
      ],
      "execution_count": null,
      "outputs": []
    },
    {
      "cell_type": "code",
      "metadata": {
        "id": "YhnXQVHgIOrZ"
      },
      "source": [
        "test_data=pd.read_csv('/content/user_data_testing.csv')\n",
        "df_test = pd.merge(phf,test_data,on = 'id')\n",
        "\n",
        "df_test.p_limit.fillna(value = df_test.p_limit.mean(),inplace = True)\n",
        "df_test.Beta.fillna(value = df_test.Beta.mean(),inplace = True)\n",
        "\n",
        "id_test = df_test.id\n",
        "df_test = df_test.drop('id',axis = 'columns')\n",
        "df_test=df_test[Features]"
      ],
      "execution_count": null,
      "outputs": []
    },
    {
      "cell_type": "markdown",
      "metadata": {
        "id": "yBXN85omZG1F"
      },
      "source": [
        "**Train Model**"
      ]
    },
    {
      "cell_type": "code",
      "metadata": {
        "id": "B2m3WBodDy1Y",
        "colab": {
          "base_uri": "https://localhost:8080/"
        },
        "outputId": "0fe861e4-9712-4b34-d8dc-1160ecc96da4"
      },
      "source": [
        "from sklearn.ensemble import RandomForestClassifier\n",
        "model1 = RandomForestClassifier(n_estimators=800,min_samples_split=2,max_depth=10)\n",
        "model1.fit(x_train,y_train)\n",
        "y_pred=model1.predict(df_test)\n",
        "model1"
      ],
      "execution_count": null,
      "outputs": [
        {
          "output_type": "execute_result",
          "data": {
            "text/plain": [
              "RandomForestClassifier(bootstrap=True, ccp_alpha=0.0, class_weight=None,\n",
              "                       criterion='gini', max_depth=10, max_features='auto',\n",
              "                       max_leaf_nodes=None, max_samples=None,\n",
              "                       min_impurity_decrease=0.0, min_impurity_split=None,\n",
              "                       min_samples_leaf=1, min_samples_split=2,\n",
              "                       min_weight_fraction_leaf=0.0, n_estimators=800,\n",
              "                       n_jobs=None, oob_score=False, random_state=None,\n",
              "                       verbose=0, warm_start=False)"
            ]
          },
          "metadata": {
            "tags": []
          },
          "execution_count": 90
        }
      ]
    },
    {
      "cell_type": "code",
      "metadata": {
        "id": "zcjVcndxMOqb",
        "colab": {
          "base_uri": "https://localhost:8080/"
        },
        "outputId": "a53187ed-43ab-4621-92d0-83084af140f8"
      },
      "source": [
        "submission = pd.DataFrame({'label':y_pred,'id':id_test})\n",
        "submission.shape\n",
        "submission.to_csv('cass_final.csv',index=False)\n",
        "print(\"Saved the submission file\")"
      ],
      "execution_count": null,
      "outputs": [
        {
          "output_type": "stream",
          "text": [
            "Saved the submission file\n"
          ],
          "name": "stdout"
        }
      ]
    }
  ]
}
